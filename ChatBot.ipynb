{
  "nbformat": 4,
  "nbformat_minor": 0,
  "metadata": {
    "colab": {
      "name": "ChatBot.ipynb",
      "provenance": [],
      "authorship_tag": "ABX9TyNQ6yqVQyTpFILwGmcdrUXy",
      "include_colab_link": true
    },
    "kernelspec": {
      "name": "python3",
      "display_name": "Python 3"
    }
  },
  "cells": [
    {
      "cell_type": "markdown",
      "metadata": {
        "id": "view-in-github",
        "colab_type": "text"
      },
      "source": [
        "<a href=\"https://colab.research.google.com/github/AjeetChaudhary/ChatBot/blob/master/ChatBot.ipynb\" target=\"_parent\"><img src=\"https://colab.research.google.com/assets/colab-badge.svg\" alt=\"Open In Colab\"/></a>"
      ]
    },
    {
      "cell_type": "code",
      "metadata": {
        "id": "Oo7BbUpNzK37",
        "colab_type": "code",
        "colab": {
          "base_uri": "https://localhost:8080/",
          "height": 102
        },
        "outputId": "2e89b9f2-1b56-41ab-bcb1-51e5f42daf96"
      },
      "source": [
        "!git clone https://github.com/CognitiveBuild/Chatbot"
      ],
      "execution_count": 1,
      "outputs": [
        {
          "output_type": "stream",
          "text": [
            "Cloning into 'Chatbot'...\n",
            "remote: Enumerating objects: 981, done.\u001b[K\n",
            "remote: Total 981 (delta 0), reused 0 (delta 0), pack-reused 981\u001b[K\n",
            "Receiving objects: 100% (981/981), 11.01 MiB | 29.36 MiB/s, done.\n",
            "Resolving deltas: 100% (489/489), done.\n"
          ],
          "name": "stdout"
        }
      ]
    }
  ]
}